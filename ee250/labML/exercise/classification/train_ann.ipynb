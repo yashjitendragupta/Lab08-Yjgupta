{
 "cells": [
  {
   "cell_type": "code",
   "execution_count": 1,
   "id": "75a465b9-97df-4ac6-9de0-5e1b4483a429",
   "metadata": {},
   "outputs": [],
   "source": [
    "import torch\n",
    "from torchvision.transforms import ToTensor\n",
    "import matplotlib.pyplot as plt\n",
    "from torch import nn\n",
    "\n",
    "import numpy as np\n",
    "import pandas as pd"
   ]
  },
  {
   "cell_type": "code",
   "execution_count": 2,
   "id": "3f9fffeb-7feb-416b-b814-82bdcfd21965",
   "metadata": {},
   "outputs": [],
   "source": [
    "coins = pd.read_csv(\"coins.csv\")\n",
    "X = torch.tensor(coins.to_numpy()[:,:2], dtype=torch.float)\n",
    "y = torch.tensor(coins.to_numpy()[:,2],dtype=torch.float) - 1 # make it 0-1 instead of 2-1\n",
    "\n",
    "TRAIN_PERCENTAGE = 0.8\n",
    "\n",
    "train_indices = np.random.choice(X.shape[0], int(X.shape[0]*TRAIN_PERCENTAGE), replace=False)\n",
    "test_indices = np.array(list(set(range(X.shape[0])) - set(train_indices)))\n",
    "train_indices.shape, test_indices.shape\n",
    "\n",
    "X_train,X_test = X[train_indices], X[test_indices]\n",
    "y_train, y_test = y[train_indices], y[test_indices]"
   ]
  },
  {
   "cell_type": "code",
   "execution_count": 3,
   "id": "989dc380-b8e3-458a-af66-2c66f11fc092",
   "metadata": {},
   "outputs": [
    {
     "data": {
      "text/plain": [
       "Sequential(\n",
       "  (0): Linear(in_features=2, out_features=10, bias=True)\n",
       "  (1): ReLU()\n",
       "  (2): Linear(in_features=10, out_features=1, bias=True)\n",
       "  (3): Sigmoid()\n",
       ")"
      ]
     },
     "execution_count": 3,
     "metadata": {},
     "output_type": "execute_result"
    }
   ],
   "source": [
    "model = nn.Sequential(\n",
    "    nn.Linear(2,10),\n",
    "    nn.ReLU(),\n",
    "    nn.Linear(10,1),\n",
    "    nn.Sigmoid(),\n",
    ")\n",
    "model"
   ]
  },
  {
   "cell_type": "code",
   "execution_count": 4,
   "id": "a9bc9ce5-6d6f-45c3-bcfe-1b9e75e24ba1",
   "metadata": {},
   "outputs": [
    {
     "name": "stdout",
     "output_type": "stream",
     "text": [
      "epoch: 0 => loss tensor(0.3398, grad_fn=<MseLossBackward0>)\n",
      "epoch: 1000 => loss tensor(0.2407, grad_fn=<MseLossBackward0>)\n",
      "epoch: 2000 => loss tensor(0.2320, grad_fn=<MseLossBackward0>)\n",
      "epoch: 3000 => loss tensor(0.2133, grad_fn=<MseLossBackward0>)\n",
      "epoch: 4000 => loss tensor(0.1924, grad_fn=<MseLossBackward0>)\n",
      "epoch: 5000 => loss tensor(0.1708, grad_fn=<MseLossBackward0>)\n",
      "epoch: 6000 => loss tensor(0.1673, grad_fn=<MseLossBackward0>)\n",
      "epoch: 7000 => loss tensor(0.1589, grad_fn=<MseLossBackward0>)\n",
      "epoch: 8000 => loss tensor(0.1620, grad_fn=<MseLossBackward0>)\n",
      "epoch: 9000 => loss tensor(0.1339, grad_fn=<MseLossBackward0>)\n",
      "epoch: 10000 => loss tensor(0.1077, grad_fn=<MseLossBackward0>)\n",
      "epoch: 11000 => loss tensor(0.1314, grad_fn=<MseLossBackward0>)\n",
      "epoch: 12000 => loss tensor(0.0808, grad_fn=<MseLossBackward0>)\n",
      "epoch: 13000 => loss tensor(0.0833, grad_fn=<MseLossBackward0>)\n",
      "epoch: 14000 => loss tensor(0.0506, grad_fn=<MseLossBackward0>)\n",
      "epoch: 15000 => loss tensor(0.0394, grad_fn=<MseLossBackward0>)\n",
      "epoch: 16000 => loss tensor(0.0526, grad_fn=<MseLossBackward0>)\n",
      "epoch: 17000 => loss tensor(0.0888, grad_fn=<MseLossBackward0>)\n",
      "epoch: 18000 => loss tensor(0.0533, grad_fn=<MseLossBackward0>)\n",
      "epoch: 19000 => loss tensor(0.0326, grad_fn=<MseLossBackward0>)\n",
      "epoch: 20000 => loss tensor(0.0387, grad_fn=<MseLossBackward0>)\n",
      "epoch: 21000 => loss tensor(0.0420, grad_fn=<MseLossBackward0>)\n",
      "epoch: 22000 => loss tensor(0.0200, grad_fn=<MseLossBackward0>)\n",
      "epoch: 23000 => loss tensor(0.0323, grad_fn=<MseLossBackward0>)\n",
      "epoch: 24000 => loss tensor(0.0095, grad_fn=<MseLossBackward0>)\n",
      "epoch: 25000 => loss tensor(0.0115, grad_fn=<MseLossBackward0>)\n",
      "epoch: 26000 => loss tensor(0.0230, grad_fn=<MseLossBackward0>)\n",
      "epoch: 27000 => loss tensor(0.0130, grad_fn=<MseLossBackward0>)\n",
      "epoch: 28000 => loss tensor(0.0186, grad_fn=<MseLossBackward0>)\n",
      "epoch: 29000 => loss tensor(0.0076, grad_fn=<MseLossBackward0>)\n"
     ]
    }
   ],
   "source": [
    "loss_fn = torch.nn.BCELoss()\n",
    "loss_fn = torch.nn.MSELoss()\n",
    "\n",
    "batch_size = 20\n",
    "\n",
    "optimizer = torch.optim.RMSprop(model.parameters(), lr=1e-3)\n",
    "\n",
    "for epoch in range(30000):\n",
    "    \n",
    "    random_index = np.random.choice(X_test.shape[0],batch_size)\n",
    "    Xbatch = X_test[random_index]\n",
    "    ybatch = y_test[random_index]\n",
    "    \n",
    "    y_pred = model(Xbatch) #predict\n",
    "    loss = loss_fn(y_pred.ravel(), ybatch)\n",
    "    \n",
    "    if not epoch%1000: print(\"epoch:\",epoch, \"=> loss\", loss)\n",
    "    \n",
    "    optimizer.zero_grad()\n",
    "    loss.backward()\n",
    "    optimizer.step()\n",
    "    "
   ]
  },
  {
   "cell_type": "code",
   "execution_count": 5,
   "id": "17420712-8177-4a6e-b1e9-1583e3df0872",
   "metadata": {},
   "outputs": [
    {
     "name": "stdout",
     "output_type": "stream",
     "text": [
      "TEST_LOSS: tensor(0.)\n"
     ]
    }
   ],
   "source": [
    "y_test_pred = ((model(X_test) > 0.5)*1).reshape(-1)\n",
    "y_test_pred=y_test_pred.type(torch.float)\n",
    "test_loss = loss_fn(y_test_pred, y_test)\n",
    "\n",
    "print(\"TEST_LOSS:\", test_loss)"
   ]
  },
  {
   "cell_type": "code",
   "execution_count": 6,
   "id": "2b436463-ea60-40c1-a3d9-4f07e19de37a",
   "metadata": {},
   "outputs": [
    {
     "data": {
      "text/plain": [
       "0.0"
      ]
     },
     "execution_count": 6,
     "metadata": {},
     "output_type": "execute_result"
    }
   ],
   "source": [
    "np.linalg.norm(y_test_pred - y_test)"
   ]
  },
  {
   "cell_type": "code",
   "execution_count": null,
   "id": "057f9d69-a5c2-4301-a70d-336c11b3610e",
   "metadata": {},
   "outputs": [],
   "source": []
  }
 ],
 "metadata": {
  "kernelspec": {
   "display_name": "Python 3 (ipykernel)",
   "language": "python",
   "name": "python3"
  },
  "language_info": {
   "codemirror_mode": {
    "name": "ipython",
    "version": 3
   },
   "file_extension": ".py",
   "mimetype": "text/x-python",
   "name": "python",
   "nbconvert_exporter": "python",
   "pygments_lexer": "ipython3",
   "version": "3.9.7"
  }
 },
 "nbformat": 4,
 "nbformat_minor": 5
}
